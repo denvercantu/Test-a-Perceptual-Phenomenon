{
 "cells": [
  {
   "cell_type": "markdown",
   "id": "3ba999a1",
   "metadata": {},
   "source": [
    "## Stroop Effect Investigation\n",
    "\n",
    "\n",
    "In a stroop task, participants are asked to read the word of a color based on the text (congruent condition) and the time to read the list of words is recorded. In the second test, participants are asked to read the color of the word based on the text color rather than the actual text itself (incongruent condition). The text may read \"BLACK\" but the color of the text is red, and the participant will need to call out the \"red\" color instead of reading the word \"BLACK\". The time is recorded for the second list of words.\n",
    "\n",
    "## 1. What is the independent variable? What is the dependent variable?\n",
    "\n",
    "Independent variable: the word conditions of the test, congruent vs incongruent\n",
    "\n",
    "Dependent variable: the recorded times it takes to complete the test\n",
    "\n",
    "## 2. What is an appropriate set of hypotheses for this task? What kind of statistical test do you expect to perform? Justify your choices.\n",
    "\n",
    "### Null Hypothesis ( $H_{0}:\\mu_{1}=\\mu_{2}$) \n",
    "\n",
    "The mean difference between the two sets of data are equal.\n",
    "\n",
    "### Alternative Hypothesis ( $H_{1}:\\mu_{1}\\ne\\mu_{2}$)\n",
    "\n",
    "The average times to complete the test will not be equal. \n",
    "\n",
    "### Statistical Test : paired sample t-test, two-sided\n",
    "\n",
    "The two groups we are compared are related, so we will use a paired sample t-test. This type of t-test compares two means and will give you information if the difference between these two averages are zero\n",
    "The alternative condition will be two-sided since we are comparing the equality of two means.\n"
   ]
  },
  {
   "cell_type": "markdown",
   "id": "0ab43000",
   "metadata": {},
   "source": [
    "## 3. Report some descriptive statistics regarding this dataset. Include at least one measure of central tendency and at least one measure of variability."
   ]
  },
  {
   "cell_type": "code",
   "execution_count": 18,
   "id": "bee6d787",
   "metadata": {},
   "outputs": [
    {
     "name": "stdout",
     "output_type": "stream",
     "text": [
      "    Congruent  Incongruent\n",
      "0      12.079       19.278\n",
      "1      16.791       18.741\n",
      "2       9.564       21.214\n",
      "3       8.630       15.687\n",
      "4      14.669       22.803\n",
      "5      12.238       20.878\n",
      "6      14.692       24.572\n",
      "7       8.987       17.394\n",
      "8       9.401       20.762\n",
      "9      14.480       26.282\n",
      "10     22.328       24.524\n",
      "11     15.298       18.644\n",
      "12     15.073       17.510\n",
      "13     16.929       20.330\n",
      "14     18.200       35.255\n",
      "15     12.130       22.158\n",
      "16     18.495       25.139\n",
      "17     10.639       20.429\n",
      "18     11.344       17.425\n",
      "19     12.369       34.288\n",
      "20     12.944       23.894\n",
      "21     14.233       17.960\n",
      "22     19.710       22.058\n",
      "23     16.004       21.157\n"
     ]
    },
    {
     "data": {
      "text/html": [
       "<div>\n",
       "<style scoped>\n",
       "    .dataframe tbody tr th:only-of-type {\n",
       "        vertical-align: middle;\n",
       "    }\n",
       "\n",
       "    .dataframe tbody tr th {\n",
       "        vertical-align: top;\n",
       "    }\n",
       "\n",
       "    .dataframe thead th {\n",
       "        text-align: right;\n",
       "    }\n",
       "</style>\n",
       "<table border=\"1\" class=\"dataframe\">\n",
       "  <thead>\n",
       "    <tr style=\"text-align: right;\">\n",
       "      <th></th>\n",
       "      <th>Congruent</th>\n",
       "      <th>Incongruent</th>\n",
       "    </tr>\n",
       "  </thead>\n",
       "  <tbody>\n",
       "    <tr>\n",
       "      <th>count</th>\n",
       "      <td>24.000000</td>\n",
       "      <td>24.000000</td>\n",
       "    </tr>\n",
       "    <tr>\n",
       "      <th>mean</th>\n",
       "      <td>14.051125</td>\n",
       "      <td>22.015917</td>\n",
       "    </tr>\n",
       "    <tr>\n",
       "      <th>std</th>\n",
       "      <td>3.559358</td>\n",
       "      <td>4.797057</td>\n",
       "    </tr>\n",
       "    <tr>\n",
       "      <th>min</th>\n",
       "      <td>8.630000</td>\n",
       "      <td>15.687000</td>\n",
       "    </tr>\n",
       "    <tr>\n",
       "      <th>25%</th>\n",
       "      <td>11.895250</td>\n",
       "      <td>18.716750</td>\n",
       "    </tr>\n",
       "    <tr>\n",
       "      <th>50%</th>\n",
       "      <td>14.356500</td>\n",
       "      <td>21.017500</td>\n",
       "    </tr>\n",
       "    <tr>\n",
       "      <th>75%</th>\n",
       "      <td>16.200750</td>\n",
       "      <td>24.051500</td>\n",
       "    </tr>\n",
       "    <tr>\n",
       "      <th>max</th>\n",
       "      <td>22.328000</td>\n",
       "      <td>35.255000</td>\n",
       "    </tr>\n",
       "  </tbody>\n",
       "</table>\n",
       "</div>"
      ],
      "text/plain": [
       "       Congruent  Incongruent\n",
       "count  24.000000    24.000000\n",
       "mean   14.051125    22.015917\n",
       "std     3.559358     4.797057\n",
       "min     8.630000    15.687000\n",
       "25%    11.895250    18.716750\n",
       "50%    14.356500    21.017500\n",
       "75%    16.200750    24.051500\n",
       "max    22.328000    35.255000"
      ]
     },
     "execution_count": 18,
     "metadata": {},
     "output_type": "execute_result"
    }
   ],
   "source": [
    "import pandas as pd\n",
    "from scipy import stats as stats\n",
    "import pingouin as pt\n",
    "import seaborn as sns #for plotting\n",
    "import matplotlib.pyplot as plt #for plotting\n",
    "%matplotlib inline\n",
    "\n",
    "# read file and save to df\n",
    "df = pd.read_csv('stroopdata.txt')\n",
    "\n",
    "# showing the data\n",
    "print(df)\n",
    "\n",
    "# Showing a quick summary of statistical values for the data\n",
    "df.describe()"
   ]
  },
  {
   "cell_type": "code",
   "execution_count": 3,
   "id": "91d32bd3",
   "metadata": {},
   "outputs": [
    {
     "data": {
      "text/plain": [
       "Congruent      14.051125\n",
       "Incongruent    22.015917\n",
       "dtype: float64"
      ]
     },
     "execution_count": 3,
     "metadata": {},
     "output_type": "execute_result"
    }
   ],
   "source": [
    "#print one measure of central tendency\n",
    "df.mean()"
   ]
  },
  {
   "cell_type": "code",
   "execution_count": 4,
   "id": "2e319e58",
   "metadata": {},
   "outputs": [
    {
     "data": {
      "text/plain": [
       "Congruent      3.559358\n",
       "Incongruent    4.797057\n",
       "dtype: float64"
      ]
     },
     "execution_count": 4,
     "metadata": {},
     "output_type": "execute_result"
    }
   ],
   "source": [
    "#print one measure of variable tendecy\n",
    "df.std()"
   ]
  },
  {
   "cell_type": "markdown",
   "id": "1e18e4b1",
   "metadata": {},
   "source": [
    "## 4. Visuals that show distributions of the data\n"
   ]
  },
  {
   "cell_type": "code",
   "execution_count": 15,
   "id": "93741908",
   "metadata": {},
   "outputs": [
    {
     "data": {
      "text/plain": [
       "<function matplotlib.pyplot.show(close=None, block=None)>"
      ]
     },
     "execution_count": 15,
     "metadata": {},
     "output_type": "execute_result"
    },
    {
     "data": {
      "image/png": "[encoded data removed]",
      "text/plain": [
       "<Figure size 800x560 with 1 Axes>"
      ]
     },
     "metadata": {
      "needs_background": "light"
     },
     "output_type": "display_data"
    },
    {
     "data": {
      "image/png": "[encoded data removed]",
      "text/plain": [
       "<Figure size 456.375x360 with 1 Axes>"
      ]
     },
     "metadata": {
      "needs_background": "light"
     },
     "output_type": "display_data"
    }
   ],
   "source": [
    "x1 = df[\"Congruent\"]\n",
    "x2 = df[\"Incongruent\"]\n",
    "x3= df\n",
    "kwargs= dict(alpha=0.5, bins=5)\n",
    "\n",
    "plt.figure(figsize=(10,7), dpi= 80)\n",
    "plt.hist(x1, **kwargs, color='g', label='Congruent')\n",
    "plt.hist(x2, **kwargs, color='b', label='Incongruent')\n",
    "plt.gca().set(title='Histogram of Congruent and Incongruent Results', xlabel='Recorded Times', ylabel='Count')\n",
    "plt.legend();\n",
    "\n",
    "sns.displot(x3, kind=\"kde\", fill=\"true\")\n",
    "plt.axvline(x = df.Congruent.mean(), label=\"Congruent Mean\")\n",
    "plt.axvline(x = df.Incongruent.mean(), color=\"orange\", label=\"Incongruent Mean\")\n",
    "plt.gca().set(title='Distribution of Congruent and Incongruent Results', xlabel='Recorded Times')\n",
    "plt.legend();\n",
    "plt.show\n"
   ]
  },
  {
   "cell_type": "code",
   "execution_count": 17,
   "id": "4f3d1e0d",
   "metadata": {},
   "outputs": [
    {
     "data": {
      "text/plain": [
       "<AxesSubplot:>"
      ]
     },
     "execution_count": 17,
     "metadata": {},
     "output_type": "execute_result"
    },
    {
     "data": {
      "image/png": "[encoded data removed]",
      "text/plain": [
       "<Figure size 432x288 with 1 Axes>"
      ]
     },
     "metadata": {
      "needs_background": "light"
     },
     "output_type": "display_data"
    }
   ],
   "source": [
    "df.plot(kind='box')"
   ]
  },
  {
   "cell_type": "markdown",
   "id": "0118a81a",
   "metadata": {},
   "source": [
    "## Observations\n",
    "\n",
    "From the histogram we can see the overlapping data from the congruent and incongruent results. We can see that the incongruent results appear to have longer recorded times, as well as 2 outliers in the data.\n",
    "\n",
    "From the distribution and box plot we can observe that the data appears normally distributed, and that the incongruent group has a higher mean for completed test times. We can also observe the two outliers present in the incongruent data.\n"
   ]
  },
  {
   "cell_type": "markdown",
   "id": "20ffc309",
   "metadata": {},
   "source": [
    "## 5. Perform the statistical test and report your results\n",
    "\n",
    "Next we will test our hypothesis using a t-test with the Pingouin package. This package provides more statistical information to test our hypothesis.\n",
    "\n",
    "Our confidence interval is 95% and critical statistic value p = 0.05\n",
    "\n",
    "We will run a paired sample t-test, as the two sets of observations are related."
   ]
  },
  {
   "cell_type": "code",
   "execution_count": 13,
   "id": "9e9865fe",
   "metadata": {},
   "outputs": [
    {
     "data": {
      "text/html": [
       "<div>\n",
       "<style scoped>\n",
       "    .dataframe tbody tr th:only-of-type {\n",
       "        vertical-align: middle;\n",
       "    }\n",
       "\n",
       "    .dataframe tbody tr th {\n",
       "        vertical-align: top;\n",
       "    }\n",
       "\n",
       "    .dataframe thead th {\n",
       "        text-align: right;\n",
       "    }\n",
       "</style>\n",
       "<table border=\"1\" class=\"dataframe\">\n",
       "  <thead>\n",
       "    <tr style=\"text-align: right;\">\n",
       "      <th></th>\n",
       "      <th>T</th>\n",
       "      <th>dof</th>\n",
       "      <th>alternative</th>\n",
       "      <th>p-val</th>\n",
       "      <th>CI95%</th>\n",
       "      <th>cohen-d</th>\n",
       "      <th>BF10</th>\n",
       "      <th>power</th>\n",
       "    </tr>\n",
       "  </thead>\n",
       "  <tbody>\n",
       "    <tr>\n",
       "      <th>T-test</th>\n",
       "      <td>-8.020707</td>\n",
       "      <td>23</td>\n",
       "      <td>two-sided</td>\n",
       "      <td>4.103001e-08</td>\n",
       "      <td>[-10.02, -5.91]</td>\n",
       "      <td>1.885698</td>\n",
       "      <td>3.444e+05</td>\n",
       "      <td>1.0</td>\n",
       "    </tr>\n",
       "  </tbody>\n",
       "</table>\n",
       "</div>"
      ],
      "text/plain": [
       "               T  dof alternative         p-val            CI95%   cohen-d  \\\n",
       "T-test -8.020707   23   two-sided  4.103001e-08  [-10.02, -5.91]  1.885698   \n",
       "\n",
       "             BF10  power  \n",
       "T-test  3.444e+05    1.0  "
      ]
     },
     "execution_count": 13,
     "metadata": {},
     "output_type": "execute_result"
    }
   ],
   "source": [
    "#paired sample t-test\n",
    "pt.ttest(df['Congruent'], df['Incongruent'], paired=True, alternative=\"two-sided\")"
   ]
  },
  {
   "cell_type": "markdown",
   "id": "f27f15eb",
   "metadata": {},
   "source": [
    "### Results\n",
    "\n",
    "From our t-test we can see that p < 0.05, allowing us to reject our null hypothesis. Further more, the Cohen-d > 0.05 indicating there is a significant effect on test times when the incongruent words condition is tested.\n",
    "\n",
    "The Bayes factor os 3.44 indicates that there is moderate evidence to support our alternative hypothesis  $H_{1}:\\mu_{1}\\ne\\mu_{2}$."
   ]
  },
  {
   "cell_type": "markdown",
   "id": "08ae6bd8",
   "metadata": {},
   "source": [
    "### References\n",
    "https://www.statisticshowto.com/bayes-factor-definition/\n",
    "https://pingouin-stats.org/generated/pingouin.ttest.html\n",
    "https://www.machinelearningplus.com/plots/matplotlib-histogram-python-examples/\n",
    "https://seaborn.pydata.org/generated/seaborn.displot.html?highlight=displot#seaborn.displot"
   ]
  },
  {
   "cell_type": "code",
   "execution_count": null,
   "id": "80236684",
   "metadata": {},
   "outputs": [],
   "source": []
  }
 ],
 "metadata": {
  "kernelspec": {
   "display_name": "Python 3",
   "language": "python",
   "name": "python3"
  },
  "language_info": {
   "codemirror_mode": {
    "name": "ipython",
    "version": 3
   },
   "file_extension": ".py",
   "mimetype": "text/x-python",
   "name": "python",
   "nbconvert_exporter": "python",
   "pygments_lexer": "ipython3",
   "version": "3.8.8"
  }
 },
 "nbformat": 4,
 "nbformat_minor": 5
}
